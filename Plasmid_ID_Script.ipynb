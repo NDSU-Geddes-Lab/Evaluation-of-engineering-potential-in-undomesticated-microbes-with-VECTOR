{
 "cells": [
  {
   "cell_type": "code",
   "execution_count": 155,
   "metadata": {},
   "outputs": [],
   "source": [
    "from Bio import SeqIO\n",
    "from Bio.Seq import Seq\n",
    "import csv\n",
    "import gzip\n",
    "import itertools\n",
    "import pandas as pd\n",
    "import numpy as np"
   ]
  },
  {
   "cell_type": "markdown",
   "metadata": {},
   "source": [
    "Here we read all the sequence indeces for the forward and reverse reads"
   ]
  },
  {
   "cell_type": "code",
   "execution_count": 156,
   "metadata": {
    "jupyter": {
     "outputs_hidden": false
    }
   },
   "outputs": [],
   "source": [
    "forward_dict = SeqIO.to_dict(SeqIO.parse(\"FW_primers.fa\", \"fasta\"))\n",
    "forward_dict = {k:str(v.seq) for k, v in forward_dict.items()}\n",
    "reverse_dict = SeqIO.to_dict(SeqIO.parse(\"RV_primers.fa\", \"fasta\"))\n",
    "reverse_dict = {k:str(v.seq.reverse_complement()) for k, v in reverse_dict.items()}"
   ]
  },
  {
   "cell_type": "markdown",
   "metadata": {},
   "source": [
    "Now, we read all the plasmid sequences"
   ]
  },
  {
   "cell_type": "code",
   "execution_count": 157,
   "metadata": {
    "jupyter": {
     "outputs_hidden": false
    },
    "scrolled": true
   },
   "outputs": [],
   "source": [
    "plasmids = {}\n",
    "with open('Plasmid_ID_Correct_position_Riley.csv', 'r') as csvfile:\n",
    "    table_reader = csv.DictReader(csvfile, delimiter=',', quotechar='\"')\n",
    "    for row in table_reader:\n",
    "        plasmids[row[\"Barcode name\"]]= row[\"ID plasmid sequence\"]"
   ]
  },
  {
   "cell_type": "code",
   "execution_count": 158,
   "metadata": {},
   "outputs": [
    {
     "data": {
      "text/plain": [
       "<csv.DictReader at 0x2ba0114e670>"
      ]
     },
     "execution_count": 158,
     "metadata": {},
     "output_type": "execute_result"
    }
   ],
   "source": [
    "table_reader"
   ]
  },
  {
   "cell_type": "markdown",
   "metadata": {},
   "source": [
    "Let's iterate the two sequence files and produce the table with the distances"
   ]
  },
  {
   "cell_type": "code",
   "execution_count": 159,
   "metadata": {
    "jupyter": {
     "outputs_hidden": false
    }
   },
   "outputs": [],
   "source": [
    "def find_hash_position(sequence, tags):\n",
    "    #print(\"________\")\n",
    "    #print(sequence)\n",
    "    #print(\"________\")\n",
    "    for key, value in tags.items():\n",
    "    #    print(value)\n",
    "        position = sequence.find(value)\n",
    "        if position != -1:\n",
    "            return (key, position)\n",
    "    return (\"none\", -1)\n",
    "\n",
    "fw_f = \"C:/Users/Lab/Documents/Riley/240528_PlasmidID_analysis/MasterScripts_240528/240528_MergedFastq/Riley16_P4_S24_R_001_mergedUnpaired.fastq.gz\"\n",
    "distances_f = \"distances_merge.txt\"\n",
    "with gzip.open(fw_f, \"rt\") as r1,open(distances_f,\"w\") as f3:\n",
    "    f3.write(\"fw_name,fw_pos,rev_name,rev_pos,pl_name,pl_pos\\n\")\n",
    "    for fw in SeqIO.parse(r1, \"fastq\") :\n",
    "        #print(fw)\n",
    "        str_seq = str(fw.seq)\n",
    "        fw_name, fw_pos = find_hash_position(str_seq, forward_dict)\n",
    "        rv_name, rv_pos = find_hash_position(str_seq, reverse_dict)\n",
    "        pl_name, pl_pos = find_hash_position(str_seq, plasmids)\n",
    "        f3.write(\",\".join([fw_name, str(fw_pos), rv_name, str(rv_pos), pl_name,str(pl_pos)])) \n",
    "        f3.write(\"\\n\")\n",
    "    \n",
    "    "
   ]
  },
  {
   "cell_type": "code",
   "execution_count": 160,
   "metadata": {
    "jupyter": {
     "outputs_hidden": false
    },
    "scrolled": false
   },
   "outputs": [
    {
     "data": {
      "text/html": [
       "<div>\n",
       "<style scoped>\n",
       "    .dataframe tbody tr th:only-of-type {\n",
       "        vertical-align: middle;\n",
       "    }\n",
       "\n",
       "    .dataframe tbody tr th {\n",
       "        vertical-align: top;\n",
       "    }\n",
       "\n",
       "    .dataframe thead th {\n",
       "        text-align: right;\n",
       "    }\n",
       "</style>\n",
       "<table border=\"1\" class=\"dataframe\">\n",
       "  <thead>\n",
       "    <tr style=\"text-align: right;\">\n",
       "      <th></th>\n",
       "      <th>fw_name</th>\n",
       "      <th>fw_pos</th>\n",
       "      <th>rev_name</th>\n",
       "      <th>rev_pos</th>\n",
       "      <th>pl_name</th>\n",
       "      <th>pl_pos</th>\n",
       "    </tr>\n",
       "  </thead>\n",
       "  <tbody>\n",
       "    <tr>\n",
       "      <th>0</th>\n",
       "      <td>10_F</td>\n",
       "      <td>0</td>\n",
       "      <td>F_R</td>\n",
       "      <td>54</td>\n",
       "      <td>rbc413</td>\n",
       "      <td>42</td>\n",
       "    </tr>\n",
       "    <tr>\n",
       "      <th>1</th>\n",
       "      <td>6_F</td>\n",
       "      <td>0</td>\n",
       "      <td>A_R</td>\n",
       "      <td>56</td>\n",
       "      <td>rbc413</td>\n",
       "      <td>44</td>\n",
       "    </tr>\n",
       "    <tr>\n",
       "      <th>2</th>\n",
       "      <td>12_F</td>\n",
       "      <td>0</td>\n",
       "      <td>A_R</td>\n",
       "      <td>56</td>\n",
       "      <td>rbc413</td>\n",
       "      <td>44</td>\n",
       "    </tr>\n",
       "    <tr>\n",
       "      <th>3</th>\n",
       "      <td>12_F</td>\n",
       "      <td>0</td>\n",
       "      <td>F_R</td>\n",
       "      <td>56</td>\n",
       "      <td>rbc404</td>\n",
       "      <td>44</td>\n",
       "    </tr>\n",
       "    <tr>\n",
       "      <th>4</th>\n",
       "      <td>2_F</td>\n",
       "      <td>0</td>\n",
       "      <td>G_R</td>\n",
       "      <td>55</td>\n",
       "      <td>rbc413</td>\n",
       "      <td>43</td>\n",
       "    </tr>\n",
       "    <tr>\n",
       "      <th>...</th>\n",
       "      <td>...</td>\n",
       "      <td>...</td>\n",
       "      <td>...</td>\n",
       "      <td>...</td>\n",
       "      <td>...</td>\n",
       "      <td>...</td>\n",
       "    </tr>\n",
       "    <tr>\n",
       "      <th>43668</th>\n",
       "      <td>9_F</td>\n",
       "      <td>0</td>\n",
       "      <td>F_R</td>\n",
       "      <td>56</td>\n",
       "      <td>rbc413</td>\n",
       "      <td>44</td>\n",
       "    </tr>\n",
       "    <tr>\n",
       "      <th>43669</th>\n",
       "      <td>3_F</td>\n",
       "      <td>0</td>\n",
       "      <td>G_R</td>\n",
       "      <td>56</td>\n",
       "      <td>rbc413</td>\n",
       "      <td>44</td>\n",
       "    </tr>\n",
       "    <tr>\n",
       "      <th>43670</th>\n",
       "      <td>3_F</td>\n",
       "      <td>0</td>\n",
       "      <td>G_R</td>\n",
       "      <td>56</td>\n",
       "      <td>rbc413</td>\n",
       "      <td>44</td>\n",
       "    </tr>\n",
       "    <tr>\n",
       "      <th>43671</th>\n",
       "      <td>10_F</td>\n",
       "      <td>0</td>\n",
       "      <td>F_R</td>\n",
       "      <td>54</td>\n",
       "      <td>rbc413</td>\n",
       "      <td>42</td>\n",
       "    </tr>\n",
       "    <tr>\n",
       "      <th>43672</th>\n",
       "      <td>12_F</td>\n",
       "      <td>0</td>\n",
       "      <td>E_R</td>\n",
       "      <td>56</td>\n",
       "      <td>rbc418</td>\n",
       "      <td>44</td>\n",
       "    </tr>\n",
       "  </tbody>\n",
       "</table>\n",
       "<p>43673 rows × 6 columns</p>\n",
       "</div>"
      ],
      "text/plain": [
       "      fw_name  fw_pos rev_name  rev_pos pl_name  pl_pos\n",
       "0        10_F       0      F_R       54  rbc413      42\n",
       "1         6_F       0      A_R       56  rbc413      44\n",
       "2        12_F       0      A_R       56  rbc413      44\n",
       "3        12_F       0      F_R       56  rbc404      44\n",
       "4         2_F       0      G_R       55  rbc413      43\n",
       "...       ...     ...      ...      ...     ...     ...\n",
       "43668     9_F       0      F_R       56  rbc413      44\n",
       "43669     3_F       0      G_R       56  rbc413      44\n",
       "43670     3_F       0      G_R       56  rbc413      44\n",
       "43671    10_F       0      F_R       54  rbc413      42\n",
       "43672    12_F       0      E_R       56  rbc418      44\n",
       "\n",
       "[43673 rows x 6 columns]"
      ]
     },
     "execution_count": 160,
     "metadata": {},
     "output_type": "execute_result"
    }
   ],
   "source": [
    "df = pd.read_csv(distances_f)\n",
    "df"
   ]
  },
  {
   "cell_type": "code",
   "execution_count": 161,
   "metadata": {
    "jupyter": {
     "outputs_hidden": false
    }
   },
   "outputs": [],
   "source": [
    "summ=df[['fw_name', 'rev_name', 'pl_name', 'pl_pos']].groupby(['fw_name', 'rev_name', 'pl_name']).agg( ['count','mean'])"
   ]
  },
  {
   "cell_type": "code",
   "execution_count": 162,
   "metadata": {
    "scrolled": true
   },
   "outputs": [],
   "source": [
    "summ.to_csv(\"Tc20_C_RW.csv\", sep=',')"
   ]
  },
  {
   "cell_type": "code",
   "execution_count": 163,
   "metadata": {
    "jupyter": {
     "outputs_hidden": false
    },
    "scrolled": true
   },
   "outputs": [
    {
     "data": {
      "text/html": [
       "<div>\n",
       "<style scoped>\n",
       "    .dataframe tbody tr th:only-of-type {\n",
       "        vertical-align: middle;\n",
       "    }\n",
       "\n",
       "    .dataframe tbody tr th {\n",
       "        vertical-align: top;\n",
       "    }\n",
       "\n",
       "    .dataframe thead tr th {\n",
       "        text-align: left;\n",
       "    }\n",
       "\n",
       "    .dataframe thead tr:last-of-type th {\n",
       "        text-align: right;\n",
       "    }\n",
       "</style>\n",
       "<table border=\"1\" class=\"dataframe\">\n",
       "  <thead>\n",
       "    <tr>\n",
       "      <th></th>\n",
       "      <th></th>\n",
       "      <th></th>\n",
       "      <th colspan=\"2\" halign=\"left\">pl_pos</th>\n",
       "    </tr>\n",
       "    <tr>\n",
       "      <th></th>\n",
       "      <th></th>\n",
       "      <th></th>\n",
       "      <th>count</th>\n",
       "      <th>mean</th>\n",
       "    </tr>\n",
       "    <tr>\n",
       "      <th>fw_name</th>\n",
       "      <th>rev_name</th>\n",
       "      <th>pl_name</th>\n",
       "      <th></th>\n",
       "      <th></th>\n",
       "    </tr>\n",
       "  </thead>\n",
       "  <tbody>\n",
       "    <tr>\n",
       "      <th rowspan=\"5\" valign=\"top\">10_F</th>\n",
       "      <th rowspan=\"5\" valign=\"top\">A_R</th>\n",
       "      <th>none</th>\n",
       "      <td>4</td>\n",
       "      <td>-1.000000</td>\n",
       "    </tr>\n",
       "    <tr>\n",
       "      <th>rbc104</th>\n",
       "      <td>7</td>\n",
       "      <td>42.000000</td>\n",
       "    </tr>\n",
       "    <tr>\n",
       "      <th>rbc402</th>\n",
       "      <td>12</td>\n",
       "      <td>42.000000</td>\n",
       "    </tr>\n",
       "    <tr>\n",
       "      <th>rbc403</th>\n",
       "      <td>2</td>\n",
       "      <td>42.000000</td>\n",
       "    </tr>\n",
       "    <tr>\n",
       "      <th>rbc404</th>\n",
       "      <td>1</td>\n",
       "      <td>42.000000</td>\n",
       "    </tr>\n",
       "    <tr>\n",
       "      <th>...</th>\n",
       "      <th>...</th>\n",
       "      <th>...</th>\n",
       "      <td>...</td>\n",
       "      <td>...</td>\n",
       "    </tr>\n",
       "    <tr>\n",
       "      <th rowspan=\"5\" valign=\"top\">none</th>\n",
       "      <th rowspan=\"5\" valign=\"top\">none</th>\n",
       "      <th>rbc104</th>\n",
       "      <td>1</td>\n",
       "      <td>44.000000</td>\n",
       "    </tr>\n",
       "    <tr>\n",
       "      <th>rbc402</th>\n",
       "      <td>1</td>\n",
       "      <td>42.000000</td>\n",
       "    </tr>\n",
       "    <tr>\n",
       "      <th>rbc403</th>\n",
       "      <td>1</td>\n",
       "      <td>43.000000</td>\n",
       "    </tr>\n",
       "    <tr>\n",
       "      <th>rbc410</th>\n",
       "      <td>1</td>\n",
       "      <td>43.000000</td>\n",
       "    </tr>\n",
       "    <tr>\n",
       "      <th>rbc413</th>\n",
       "      <td>24</td>\n",
       "      <td>43.041667</td>\n",
       "    </tr>\n",
       "  </tbody>\n",
       "</table>\n",
       "<p>680 rows × 2 columns</p>\n",
       "</div>"
      ],
      "text/plain": [
       "                         pl_pos           \n",
       "                          count       mean\n",
       "fw_name rev_name pl_name                  \n",
       "10_F    A_R      none         4  -1.000000\n",
       "                 rbc104       7  42.000000\n",
       "                 rbc402      12  42.000000\n",
       "                 rbc403       2  42.000000\n",
       "                 rbc404       1  42.000000\n",
       "...                         ...        ...\n",
       "none    none     rbc104       1  44.000000\n",
       "                 rbc402       1  42.000000\n",
       "                 rbc403       1  43.000000\n",
       "                 rbc410       1  43.000000\n",
       "                 rbc413      24  43.041667\n",
       "\n",
       "[680 rows x 2 columns]"
      ]
     },
     "execution_count": 163,
     "metadata": {},
     "output_type": "execute_result"
    }
   ],
   "source": [
    "summ"
   ]
  },
  {
   "cell_type": "code",
   "execution_count": null,
   "metadata": {},
   "outputs": [],
   "source": []
  },
  {
   "cell_type": "code",
   "execution_count": null,
   "metadata": {
    "jupyter": {
     "outputs_hidden": true
    }
   },
   "outputs": [],
   "source": []
  },
  {
   "cell_type": "code",
   "execution_count": null,
   "metadata": {
    "jupyter": {
     "outputs_hidden": true
    }
   },
   "outputs": [],
   "source": []
  },
  {
   "cell_type": "code",
   "execution_count": null,
   "metadata": {
    "jupyter": {
     "outputs_hidden": true
    }
   },
   "outputs": [],
   "source": []
  },
  {
   "cell_type": "code",
   "execution_count": null,
   "metadata": {
    "jupyter": {
     "outputs_hidden": true
    }
   },
   "outputs": [],
   "source": []
  },
  {
   "cell_type": "code",
   "execution_count": null,
   "metadata": {},
   "outputs": [],
   "source": []
  },
  {
   "cell_type": "code",
   "execution_count": null,
   "metadata": {},
   "outputs": [],
   "source": []
  },
  {
   "cell_type": "code",
   "execution_count": null,
   "metadata": {},
   "outputs": [],
   "source": []
  },
  {
   "cell_type": "code",
   "execution_count": null,
   "metadata": {},
   "outputs": [],
   "source": []
  },
  {
   "cell_type": "code",
   "execution_count": null,
   "metadata": {},
   "outputs": [],
   "source": []
  },
  {
   "cell_type": "code",
   "execution_count": null,
   "metadata": {},
   "outputs": [],
   "source": []
  },
  {
   "cell_type": "code",
   "execution_count": null,
   "metadata": {},
   "outputs": [],
   "source": []
  },
  {
   "cell_type": "code",
   "execution_count": null,
   "metadata": {},
   "outputs": [],
   "source": []
  },
  {
   "cell_type": "code",
   "execution_count": null,
   "metadata": {},
   "outputs": [],
   "source": []
  },
  {
   "cell_type": "code",
   "execution_count": null,
   "metadata": {},
   "outputs": [],
   "source": []
  },
  {
   "cell_type": "code",
   "execution_count": null,
   "metadata": {},
   "outputs": [],
   "source": []
  },
  {
   "cell_type": "code",
   "execution_count": null,
   "metadata": {},
   "outputs": [],
   "source": []
  },
  {
   "cell_type": "code",
   "execution_count": null,
   "metadata": {},
   "outputs": [],
   "source": []
  },
  {
   "cell_type": "code",
   "execution_count": null,
   "metadata": {},
   "outputs": [],
   "source": []
  },
  {
   "cell_type": "code",
   "execution_count": null,
   "metadata": {},
   "outputs": [],
   "source": []
  },
  {
   "cell_type": "code",
   "execution_count": null,
   "metadata": {},
   "outputs": [],
   "source": []
  },
  {
   "cell_type": "code",
   "execution_count": null,
   "metadata": {},
   "outputs": [],
   "source": []
  },
  {
   "cell_type": "code",
   "execution_count": null,
   "metadata": {},
   "outputs": [],
   "source": []
  },
  {
   "cell_type": "code",
   "execution_count": null,
   "metadata": {},
   "outputs": [],
   "source": []
  },
  {
   "cell_type": "code",
   "execution_count": null,
   "metadata": {},
   "outputs": [],
   "source": []
  },
  {
   "cell_type": "code",
   "execution_count": null,
   "metadata": {},
   "outputs": [],
   "source": []
  },
  {
   "cell_type": "code",
   "execution_count": null,
   "metadata": {},
   "outputs": [],
   "source": []
  },
  {
   "cell_type": "code",
   "execution_count": null,
   "metadata": {},
   "outputs": [],
   "source": []
  },
  {
   "cell_type": "code",
   "execution_count": null,
   "metadata": {},
   "outputs": [],
   "source": []
  },
  {
   "cell_type": "code",
   "execution_count": null,
   "metadata": {},
   "outputs": [],
   "source": []
  },
  {
   "cell_type": "code",
   "execution_count": null,
   "metadata": {},
   "outputs": [],
   "source": []
  },
  {
   "cell_type": "code",
   "execution_count": null,
   "metadata": {},
   "outputs": [],
   "source": []
  },
  {
   "cell_type": "code",
   "execution_count": null,
   "metadata": {},
   "outputs": [],
   "source": []
  }
 ],
 "metadata": {
  "kernelspec": {
   "display_name": "Python 3 (ipykernel)",
   "language": "python",
   "name": "python3"
  },
  "language_info": {
   "codemirror_mode": {
    "name": "ipython",
    "version": 3
   },
   "file_extension": ".py",
   "mimetype": "text/x-python",
   "name": "python",
   "nbconvert_exporter": "python",
   "pygments_lexer": "ipython3",
   "version": "3.9.12"
  }
 },
 "nbformat": 4,
 "nbformat_minor": 4
}
